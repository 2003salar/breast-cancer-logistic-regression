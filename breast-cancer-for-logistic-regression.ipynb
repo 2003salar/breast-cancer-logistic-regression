{
 "cells": [
  {
   "cell_type": "code",
   "execution_count": 1,
   "id": "34651eef",
   "metadata": {
    "execution": {
     "iopub.execute_input": "2024-09-13T19:57:34.880562Z",
     "iopub.status.busy": "2024-09-13T19:57:34.880118Z",
     "iopub.status.idle": "2024-09-13T19:57:35.328972Z",
     "shell.execute_reply": "2024-09-13T19:57:35.327823Z"
    },
    "papermill": {
     "duration": 0.459854,
     "end_time": "2024-09-13T19:57:35.331745",
     "exception": false,
     "start_time": "2024-09-13T19:57:34.871891",
     "status": "completed"
    },
    "tags": []
   },
   "outputs": [],
   "source": [
    "import pandas as pd\n",
    "import numpy as np"
   ]
  },
  {
   "cell_type": "code",
   "execution_count": 2,
   "id": "828c0eff",
   "metadata": {
    "execution": {
     "iopub.execute_input": "2024-09-13T19:57:35.346031Z",
     "iopub.status.busy": "2024-09-13T19:57:35.345466Z",
     "iopub.status.idle": "2024-09-13T19:57:35.387435Z",
     "shell.execute_reply": "2024-09-13T19:57:35.386355Z"
    },
    "papermill": {
     "duration": 0.052361,
     "end_time": "2024-09-13T19:57:35.390466",
     "exception": false,
     "start_time": "2024-09-13T19:57:35.338105",
     "status": "completed"
    },
    "tags": []
   },
   "outputs": [],
   "source": [
    "df = pd.read_csv('/kaggle/input/breast-cancer/Breast_Cancer.csv')"
   ]
  },
  {
   "cell_type": "code",
   "execution_count": 3,
   "id": "ce7911ab",
   "metadata": {
    "execution": {
     "iopub.execute_input": "2024-09-13T19:57:35.403948Z",
     "iopub.status.busy": "2024-09-13T19:57:35.403577Z",
     "iopub.status.idle": "2024-09-13T19:57:35.440186Z",
     "shell.execute_reply": "2024-09-13T19:57:35.439033Z"
    },
    "papermill": {
     "duration": 0.046462,
     "end_time": "2024-09-13T19:57:35.442942",
     "exception": false,
     "start_time": "2024-09-13T19:57:35.396480",
     "status": "completed"
    },
    "tags": []
   },
   "outputs": [
    {
     "name": "stdout",
     "output_type": "stream",
     "text": [
      "<class 'pandas.core.frame.DataFrame'>\n",
      "RangeIndex: 4024 entries, 0 to 4023\n",
      "Data columns (total 16 columns):\n",
      " #   Column                  Non-Null Count  Dtype \n",
      "---  ------                  --------------  ----- \n",
      " 0   Age                     4024 non-null   int64 \n",
      " 1   Race                    4024 non-null   object\n",
      " 2   Marital Status          4024 non-null   object\n",
      " 3   T Stage                 4024 non-null   object\n",
      " 4   N Stage                 4024 non-null   object\n",
      " 5   6th Stage               4024 non-null   object\n",
      " 6   differentiate           4024 non-null   object\n",
      " 7   Grade                   4024 non-null   object\n",
      " 8   A Stage                 4024 non-null   object\n",
      " 9   Tumor Size              4024 non-null   int64 \n",
      " 10  Estrogen Status         4024 non-null   object\n",
      " 11  Progesterone Status     4024 non-null   object\n",
      " 12  Regional Node Examined  4024 non-null   int64 \n",
      " 13  Reginol Node Positive   4024 non-null   int64 \n",
      " 14  Survival Months         4024 non-null   int64 \n",
      " 15  Status                  4024 non-null   object\n",
      "dtypes: int64(5), object(11)\n",
      "memory usage: 503.1+ KB\n"
     ]
    }
   ],
   "source": [
    "df.info()"
   ]
  },
  {
   "cell_type": "code",
   "execution_count": 4,
   "id": "ad8303b8",
   "metadata": {
    "execution": {
     "iopub.execute_input": "2024-09-13T19:57:35.457439Z",
     "iopub.status.busy": "2024-09-13T19:57:35.456464Z",
     "iopub.status.idle": "2024-09-13T19:57:35.472201Z",
     "shell.execute_reply": "2024-09-13T19:57:35.471030Z"
    },
    "papermill": {
     "duration": 0.025318,
     "end_time": "2024-09-13T19:57:35.474512",
     "exception": false,
     "start_time": "2024-09-13T19:57:35.449194",
     "status": "completed"
    },
    "tags": []
   },
   "outputs": [
    {
     "data": {
      "text/plain": [
       "Age                       0\n",
       "Race                      0\n",
       "Marital Status            0\n",
       "T Stage                   0\n",
       "N Stage                   0\n",
       "6th Stage                 0\n",
       "differentiate             0\n",
       "Grade                     0\n",
       "A Stage                   0\n",
       "Tumor Size                0\n",
       "Estrogen Status           0\n",
       "Progesterone Status       0\n",
       "Regional Node Examined    0\n",
       "Reginol Node Positive     0\n",
       "Survival Months           0\n",
       "Status                    0\n",
       "dtype: int64"
      ]
     },
     "execution_count": 4,
     "metadata": {},
     "output_type": "execute_result"
    }
   ],
   "source": [
    "df.isnull().sum()"
   ]
  },
  {
   "cell_type": "code",
   "execution_count": 5,
   "id": "91dad64a",
   "metadata": {
    "execution": {
     "iopub.execute_input": "2024-09-13T19:57:35.488844Z",
     "iopub.status.busy": "2024-09-13T19:57:35.487946Z",
     "iopub.status.idle": "2024-09-13T19:57:35.503565Z",
     "shell.execute_reply": "2024-09-13T19:57:35.502484Z"
    },
    "papermill": {
     "duration": 0.025669,
     "end_time": "2024-09-13T19:57:35.506338",
     "exception": false,
     "start_time": "2024-09-13T19:57:35.480669",
     "status": "completed"
    },
    "tags": []
   },
   "outputs": [
    {
     "name": "stdout",
     "output_type": "stream",
     "text": [
      "{'Age': array([68, 50, 58, 47, 51, 40, 69, 46, 65, 48, 62, 61, 56, 43, 60, 57, 55,\n",
      "       63, 66, 53, 59, 54, 49, 64, 42, 37, 67, 31, 52, 33, 45, 38, 39, 36,\n",
      "       41, 44, 32, 34, 35, 30]), 'Race': array(['White', 'Black', 'Other'], dtype=object), 'Marital Status': array(['Married', 'Divorced', 'Single ', 'Widowed', 'Separated'],\n",
      "      dtype=object), 'T Stage ': array(['T1', 'T2', 'T3', 'T4'], dtype=object), 'N Stage': array(['N1', 'N2', 'N3'], dtype=object), '6th Stage': array(['IIA', 'IIIA', 'IIIC', 'IIB', 'IIIB'], dtype=object), 'differentiate': array(['Poorly differentiated', 'Moderately differentiated',\n",
      "       'Well differentiated', 'Undifferentiated'], dtype=object), 'Grade': array(['3', '2', '1', ' anaplastic; Grade IV'], dtype=object), 'A Stage': array(['Regional', 'Distant'], dtype=object), 'Tumor Size': array([  4,  35,  63,  18,  41,  20,   8,  30, 103,  32,  13,  59,  15,\n",
      "        19,  46,  24,  25,  29,  40,  70,  22,  50,  17,  21,  10,  27,\n",
      "        23,   5,  51,   9,  55, 120,  77,   2,  11,  12,  26,  75, 130,\n",
      "        34,  80,   3,  60,  14,  16,  45,  36,  76,  38,  49,   7,  72,\n",
      "       100,  43,  62,  37,  68,  52,  85,  57,  39,  28,  48, 110,  65,\n",
      "         6, 105, 140,  42,  31,  90, 108,  98,  47,  54,  61,  74,  33,\n",
      "         1,  87,  81,  58, 117,  44, 123, 133,  95, 107,  92,  69,  56,\n",
      "        82,  66,  78,  97,  88,  53,  83, 101,  84, 115,  73, 125, 104,\n",
      "        94,  86,  64,  96,  79,  67]), 'Estrogen Status': array(['Positive', 'Negative'], dtype=object), 'Progesterone Status': array(['Positive', 'Negative'], dtype=object), 'Regional Node Examined': array([24, 14,  2,  3, 18, 11,  9, 20, 21, 13, 23, 16,  1, 22, 15,  4, 26,\n",
      "       31, 25, 10,  5,  6, 19, 12,  8, 17,  7, 49, 33, 30, 34, 28, 32, 27,\n",
      "       42, 29, 41, 39, 46, 40, 51, 44, 38, 47, 54, 36, 61, 37, 35, 43, 52,\n",
      "       45, 57, 60]), 'Reginol Node Positive': array([ 1,  5,  7,  2, 18, 12,  3, 14, 22, 17, 23,  4, 10,  6,  9,  8, 20,\n",
      "       16, 13, 11, 24, 27, 21, 26, 15, 28, 19, 29, 31, 46, 33, 37, 30, 35,\n",
      "       25, 32, 41, 34]), 'Survival Months': array([ 60,  62,  75,  84,  50,  89,  54,  14,  70,  92,  64,  56,  38,\n",
      "        49, 105, 107,  77,  81,  78, 102,  98,  82,  86,  52,  90,  31,\n",
      "        37, 103,  42,  61,  63,  39,  59,  71,  74,  73,  91, 106,  80,\n",
      "        44,  85,  79, 104,  12,  95,  55, 101,  65,  72,  57,  87,  40,\n",
      "        25,   8,  53,  58,  24,  66,  69,  93,  94, 100,  96,  41,  67,\n",
      "        51,  13,  11,  47,  23,  45,  68,  76,  15,  16,  99,   7,  48,\n",
      "        88,  34,  97,  83,  17,   3,  22,  30,   6,  32,   9,   5,  10,\n",
      "        19,  18,  35,  27,  36,   4,  29,  33,  26,  20,  28,  43,   1,\n",
      "        46,  21,   2]), 'Status': array(['Alive', 'Dead'], dtype=object)}\n"
     ]
    }
   ],
   "source": [
    "unique_values_dict = {}\n",
    "df_columns = df.columns\n",
    "# print(df_columns)\n",
    "for column in df_columns:\n",
    "    unique_values_dict[column] = df[column].unique()\n",
    "print(unique_values_dict)"
   ]
  },
  {
   "cell_type": "code",
   "execution_count": 6,
   "id": "8f2b1643",
   "metadata": {
    "execution": {
     "iopub.execute_input": "2024-09-13T19:57:35.521176Z",
     "iopub.status.busy": "2024-09-13T19:57:35.520739Z",
     "iopub.status.idle": "2024-09-13T19:57:35.529417Z",
     "shell.execute_reply": "2024-09-13T19:57:35.528352Z"
    },
    "papermill": {
     "duration": 0.018487,
     "end_time": "2024-09-13T19:57:35.531669",
     "exception": false,
     "start_time": "2024-09-13T19:57:35.513182",
     "status": "completed"
    },
    "tags": []
   },
   "outputs": [
    {
     "data": {
      "text/plain": [
       "Age                        int64\n",
       "Race                      object\n",
       "Marital Status            object\n",
       "T Stage                   object\n",
       "N Stage                   object\n",
       "6th Stage                 object\n",
       "differentiate             object\n",
       "Grade                     object\n",
       "A Stage                   object\n",
       "Tumor Size                 int64\n",
       "Estrogen Status           object\n",
       "Progesterone Status       object\n",
       "Regional Node Examined     int64\n",
       "Reginol Node Positive      int64\n",
       "Survival Months            int64\n",
       "Status                    object\n",
       "dtype: object"
      ]
     },
     "execution_count": 6,
     "metadata": {},
     "output_type": "execute_result"
    }
   ],
   "source": [
    "df.dtypes\n"
   ]
  },
  {
   "cell_type": "code",
   "execution_count": 7,
   "id": "a039abd8",
   "metadata": {
    "execution": {
     "iopub.execute_input": "2024-09-13T19:57:35.546885Z",
     "iopub.status.busy": "2024-09-13T19:57:35.546061Z",
     "iopub.status.idle": "2024-09-13T19:57:35.558213Z",
     "shell.execute_reply": "2024-09-13T19:57:35.557194Z"
    },
    "papermill": {
     "duration": 0.02237,
     "end_time": "2024-09-13T19:57:35.560513",
     "exception": false,
     "start_time": "2024-09-13T19:57:35.538143",
     "status": "completed"
    },
    "tags": []
   },
   "outputs": [
    {
     "data": {
      "text/plain": [
       "array([0, 1])"
      ]
     },
     "execution_count": 7,
     "metadata": {},
     "output_type": "execute_result"
    }
   ],
   "source": [
    "df['Status'] = df['Status'].str.strip()\n",
    "df['Status'] = df['Status'].map({'Alive': 0, 'Dead': 1})\n",
    "df['Status'].unique()"
   ]
  },
  {
   "cell_type": "code",
   "execution_count": 8,
   "id": "2f3081e5",
   "metadata": {
    "execution": {
     "iopub.execute_input": "2024-09-13T19:57:35.575792Z",
     "iopub.status.busy": "2024-09-13T19:57:35.574950Z",
     "iopub.status.idle": "2024-09-13T19:57:35.589857Z",
     "shell.execute_reply": "2024-09-13T19:57:35.588859Z"
    },
    "papermill": {
     "duration": 0.025106,
     "end_time": "2024-09-13T19:57:35.592229",
     "exception": false,
     "start_time": "2024-09-13T19:57:35.567123",
     "status": "completed"
    },
    "tags": []
   },
   "outputs": [
    {
     "data": {
      "text/plain": [
       "array([3, 2, 1, 4])"
      ]
     },
     "execution_count": 8,
     "metadata": {},
     "output_type": "execute_result"
    }
   ],
   "source": [
    "df['Grade'] = df['Grade'].str.replace(' anaplastic; Grade IV', '4')\n",
    "df['Grade'] = pd.to_numeric(df['Grade'],)\n",
    "df['Grade'].unique()"
   ]
  },
  {
   "cell_type": "code",
   "execution_count": 9,
   "id": "519b4029",
   "metadata": {
    "execution": {
     "iopub.execute_input": "2024-09-13T19:57:35.607468Z",
     "iopub.status.busy": "2024-09-13T19:57:35.607085Z",
     "iopub.status.idle": "2024-09-13T19:57:35.671122Z",
     "shell.execute_reply": "2024-09-13T19:57:35.669927Z"
    },
    "papermill": {
     "duration": 0.074422,
     "end_time": "2024-09-13T19:57:35.673577",
     "exception": false,
     "start_time": "2024-09-13T19:57:35.599155",
     "status": "completed"
    },
    "tags": []
   },
   "outputs": [
    {
     "data": {
      "text/html": [
       "<div>\n",
       "<style scoped>\n",
       "    .dataframe tbody tr th:only-of-type {\n",
       "        vertical-align: middle;\n",
       "    }\n",
       "\n",
       "    .dataframe tbody tr th {\n",
       "        vertical-align: top;\n",
       "    }\n",
       "\n",
       "    .dataframe thead th {\n",
       "        text-align: right;\n",
       "    }\n",
       "</style>\n",
       "<table border=\"1\" class=\"dataframe\">\n",
       "  <thead>\n",
       "    <tr style=\"text-align: right;\">\n",
       "      <th></th>\n",
       "      <th>Age</th>\n",
       "      <th>Grade</th>\n",
       "      <th>Tumor Size</th>\n",
       "      <th>Regional Node Examined</th>\n",
       "      <th>Reginol Node Positive</th>\n",
       "      <th>Survival Months</th>\n",
       "      <th>Status</th>\n",
       "      <th>Race_Other</th>\n",
       "      <th>Race_White</th>\n",
       "      <th>Marital Status_Married</th>\n",
       "      <th>...</th>\n",
       "      <th>6th Stage_IIB</th>\n",
       "      <th>6th Stage_IIIA</th>\n",
       "      <th>6th Stage_IIIB</th>\n",
       "      <th>6th Stage_IIIC</th>\n",
       "      <th>differentiate_Poorly differentiated</th>\n",
       "      <th>differentiate_Undifferentiated</th>\n",
       "      <th>differentiate_Well differentiated</th>\n",
       "      <th>A Stage_Regional</th>\n",
       "      <th>Estrogen Status_Positive</th>\n",
       "      <th>Progesterone Status_Positive</th>\n",
       "    </tr>\n",
       "  </thead>\n",
       "  <tbody>\n",
       "    <tr>\n",
       "      <th>0</th>\n",
       "      <td>68</td>\n",
       "      <td>3</td>\n",
       "      <td>4</td>\n",
       "      <td>24</td>\n",
       "      <td>1</td>\n",
       "      <td>60</td>\n",
       "      <td>0</td>\n",
       "      <td>0.0</td>\n",
       "      <td>1.0</td>\n",
       "      <td>1.0</td>\n",
       "      <td>...</td>\n",
       "      <td>0.0</td>\n",
       "      <td>0.0</td>\n",
       "      <td>0.0</td>\n",
       "      <td>0.0</td>\n",
       "      <td>1.0</td>\n",
       "      <td>0.0</td>\n",
       "      <td>0.0</td>\n",
       "      <td>1.0</td>\n",
       "      <td>1.0</td>\n",
       "      <td>1.0</td>\n",
       "    </tr>\n",
       "    <tr>\n",
       "      <th>1</th>\n",
       "      <td>50</td>\n",
       "      <td>2</td>\n",
       "      <td>35</td>\n",
       "      <td>14</td>\n",
       "      <td>5</td>\n",
       "      <td>62</td>\n",
       "      <td>0</td>\n",
       "      <td>0.0</td>\n",
       "      <td>1.0</td>\n",
       "      <td>1.0</td>\n",
       "      <td>...</td>\n",
       "      <td>0.0</td>\n",
       "      <td>1.0</td>\n",
       "      <td>0.0</td>\n",
       "      <td>0.0</td>\n",
       "      <td>0.0</td>\n",
       "      <td>0.0</td>\n",
       "      <td>0.0</td>\n",
       "      <td>1.0</td>\n",
       "      <td>1.0</td>\n",
       "      <td>1.0</td>\n",
       "    </tr>\n",
       "    <tr>\n",
       "      <th>2</th>\n",
       "      <td>58</td>\n",
       "      <td>2</td>\n",
       "      <td>63</td>\n",
       "      <td>14</td>\n",
       "      <td>7</td>\n",
       "      <td>75</td>\n",
       "      <td>0</td>\n",
       "      <td>0.0</td>\n",
       "      <td>1.0</td>\n",
       "      <td>0.0</td>\n",
       "      <td>...</td>\n",
       "      <td>0.0</td>\n",
       "      <td>0.0</td>\n",
       "      <td>0.0</td>\n",
       "      <td>1.0</td>\n",
       "      <td>0.0</td>\n",
       "      <td>0.0</td>\n",
       "      <td>0.0</td>\n",
       "      <td>1.0</td>\n",
       "      <td>1.0</td>\n",
       "      <td>1.0</td>\n",
       "    </tr>\n",
       "    <tr>\n",
       "      <th>3</th>\n",
       "      <td>58</td>\n",
       "      <td>3</td>\n",
       "      <td>18</td>\n",
       "      <td>2</td>\n",
       "      <td>1</td>\n",
       "      <td>84</td>\n",
       "      <td>0</td>\n",
       "      <td>0.0</td>\n",
       "      <td>1.0</td>\n",
       "      <td>1.0</td>\n",
       "      <td>...</td>\n",
       "      <td>0.0</td>\n",
       "      <td>0.0</td>\n",
       "      <td>0.0</td>\n",
       "      <td>0.0</td>\n",
       "      <td>1.0</td>\n",
       "      <td>0.0</td>\n",
       "      <td>0.0</td>\n",
       "      <td>1.0</td>\n",
       "      <td>1.0</td>\n",
       "      <td>1.0</td>\n",
       "    </tr>\n",
       "    <tr>\n",
       "      <th>4</th>\n",
       "      <td>47</td>\n",
       "      <td>3</td>\n",
       "      <td>41</td>\n",
       "      <td>3</td>\n",
       "      <td>1</td>\n",
       "      <td>50</td>\n",
       "      <td>0</td>\n",
       "      <td>0.0</td>\n",
       "      <td>1.0</td>\n",
       "      <td>1.0</td>\n",
       "      <td>...</td>\n",
       "      <td>1.0</td>\n",
       "      <td>0.0</td>\n",
       "      <td>0.0</td>\n",
       "      <td>0.0</td>\n",
       "      <td>1.0</td>\n",
       "      <td>0.0</td>\n",
       "      <td>0.0</td>\n",
       "      <td>1.0</td>\n",
       "      <td>1.0</td>\n",
       "      <td>1.0</td>\n",
       "    </tr>\n",
       "    <tr>\n",
       "      <th>...</th>\n",
       "      <td>...</td>\n",
       "      <td>...</td>\n",
       "      <td>...</td>\n",
       "      <td>...</td>\n",
       "      <td>...</td>\n",
       "      <td>...</td>\n",
       "      <td>...</td>\n",
       "      <td>...</td>\n",
       "      <td>...</td>\n",
       "      <td>...</td>\n",
       "      <td>...</td>\n",
       "      <td>...</td>\n",
       "      <td>...</td>\n",
       "      <td>...</td>\n",
       "      <td>...</td>\n",
       "      <td>...</td>\n",
       "      <td>...</td>\n",
       "      <td>...</td>\n",
       "      <td>...</td>\n",
       "      <td>...</td>\n",
       "      <td>...</td>\n",
       "    </tr>\n",
       "    <tr>\n",
       "      <th>4019</th>\n",
       "      <td>62</td>\n",
       "      <td>2</td>\n",
       "      <td>9</td>\n",
       "      <td>1</td>\n",
       "      <td>1</td>\n",
       "      <td>49</td>\n",
       "      <td>0</td>\n",
       "      <td>1.0</td>\n",
       "      <td>0.0</td>\n",
       "      <td>1.0</td>\n",
       "      <td>...</td>\n",
       "      <td>0.0</td>\n",
       "      <td>0.0</td>\n",
       "      <td>0.0</td>\n",
       "      <td>0.0</td>\n",
       "      <td>0.0</td>\n",
       "      <td>0.0</td>\n",
       "      <td>0.0</td>\n",
       "      <td>1.0</td>\n",
       "      <td>1.0</td>\n",
       "      <td>1.0</td>\n",
       "    </tr>\n",
       "    <tr>\n",
       "      <th>4020</th>\n",
       "      <td>56</td>\n",
       "      <td>2</td>\n",
       "      <td>46</td>\n",
       "      <td>14</td>\n",
       "      <td>8</td>\n",
       "      <td>69</td>\n",
       "      <td>0</td>\n",
       "      <td>0.0</td>\n",
       "      <td>1.0</td>\n",
       "      <td>0.0</td>\n",
       "      <td>...</td>\n",
       "      <td>0.0</td>\n",
       "      <td>1.0</td>\n",
       "      <td>0.0</td>\n",
       "      <td>0.0</td>\n",
       "      <td>0.0</td>\n",
       "      <td>0.0</td>\n",
       "      <td>0.0</td>\n",
       "      <td>1.0</td>\n",
       "      <td>1.0</td>\n",
       "      <td>1.0</td>\n",
       "    </tr>\n",
       "    <tr>\n",
       "      <th>4021</th>\n",
       "      <td>68</td>\n",
       "      <td>2</td>\n",
       "      <td>22</td>\n",
       "      <td>11</td>\n",
       "      <td>3</td>\n",
       "      <td>69</td>\n",
       "      <td>0</td>\n",
       "      <td>0.0</td>\n",
       "      <td>1.0</td>\n",
       "      <td>1.0</td>\n",
       "      <td>...</td>\n",
       "      <td>1.0</td>\n",
       "      <td>0.0</td>\n",
       "      <td>0.0</td>\n",
       "      <td>0.0</td>\n",
       "      <td>0.0</td>\n",
       "      <td>0.0</td>\n",
       "      <td>0.0</td>\n",
       "      <td>1.0</td>\n",
       "      <td>1.0</td>\n",
       "      <td>0.0</td>\n",
       "    </tr>\n",
       "    <tr>\n",
       "      <th>4022</th>\n",
       "      <td>58</td>\n",
       "      <td>2</td>\n",
       "      <td>44</td>\n",
       "      <td>11</td>\n",
       "      <td>1</td>\n",
       "      <td>72</td>\n",
       "      <td>0</td>\n",
       "      <td>0.0</td>\n",
       "      <td>0.0</td>\n",
       "      <td>0.0</td>\n",
       "      <td>...</td>\n",
       "      <td>1.0</td>\n",
       "      <td>0.0</td>\n",
       "      <td>0.0</td>\n",
       "      <td>0.0</td>\n",
       "      <td>0.0</td>\n",
       "      <td>0.0</td>\n",
       "      <td>0.0</td>\n",
       "      <td>1.0</td>\n",
       "      <td>1.0</td>\n",
       "      <td>1.0</td>\n",
       "    </tr>\n",
       "    <tr>\n",
       "      <th>4023</th>\n",
       "      <td>46</td>\n",
       "      <td>2</td>\n",
       "      <td>30</td>\n",
       "      <td>7</td>\n",
       "      <td>2</td>\n",
       "      <td>100</td>\n",
       "      <td>0</td>\n",
       "      <td>0.0</td>\n",
       "      <td>1.0</td>\n",
       "      <td>1.0</td>\n",
       "      <td>...</td>\n",
       "      <td>1.0</td>\n",
       "      <td>0.0</td>\n",
       "      <td>0.0</td>\n",
       "      <td>0.0</td>\n",
       "      <td>0.0</td>\n",
       "      <td>0.0</td>\n",
       "      <td>0.0</td>\n",
       "      <td>1.0</td>\n",
       "      <td>1.0</td>\n",
       "      <td>1.0</td>\n",
       "    </tr>\n",
       "  </tbody>\n",
       "</table>\n",
       "<p>4024 rows × 28 columns</p>\n",
       "</div>"
      ],
      "text/plain": [
       "      Age  Grade  Tumor Size  Regional Node Examined  Reginol Node Positive  \\\n",
       "0      68      3           4                      24                      1   \n",
       "1      50      2          35                      14                      5   \n",
       "2      58      2          63                      14                      7   \n",
       "3      58      3          18                       2                      1   \n",
       "4      47      3          41                       3                      1   \n",
       "...   ...    ...         ...                     ...                    ...   \n",
       "4019   62      2           9                       1                      1   \n",
       "4020   56      2          46                      14                      8   \n",
       "4021   68      2          22                      11                      3   \n",
       "4022   58      2          44                      11                      1   \n",
       "4023   46      2          30                       7                      2   \n",
       "\n",
       "      Survival Months  Status  Race_Other  Race_White  Marital Status_Married  \\\n",
       "0                  60       0         0.0         1.0                     1.0   \n",
       "1                  62       0         0.0         1.0                     1.0   \n",
       "2                  75       0         0.0         1.0                     0.0   \n",
       "3                  84       0         0.0         1.0                     1.0   \n",
       "4                  50       0         0.0         1.0                     1.0   \n",
       "...               ...     ...         ...         ...                     ...   \n",
       "4019               49       0         1.0         0.0                     1.0   \n",
       "4020               69       0         0.0         1.0                     0.0   \n",
       "4021               69       0         0.0         1.0                     1.0   \n",
       "4022               72       0         0.0         0.0                     0.0   \n",
       "4023              100       0         0.0         1.0                     1.0   \n",
       "\n",
       "      ...  6th Stage_IIB  6th Stage_IIIA  6th Stage_IIIB  6th Stage_IIIC  \\\n",
       "0     ...            0.0             0.0             0.0             0.0   \n",
       "1     ...            0.0             1.0             0.0             0.0   \n",
       "2     ...            0.0             0.0             0.0             1.0   \n",
       "3     ...            0.0             0.0             0.0             0.0   \n",
       "4     ...            1.0             0.0             0.0             0.0   \n",
       "...   ...            ...             ...             ...             ...   \n",
       "4019  ...            0.0             0.0             0.0             0.0   \n",
       "4020  ...            0.0             1.0             0.0             0.0   \n",
       "4021  ...            1.0             0.0             0.0             0.0   \n",
       "4022  ...            1.0             0.0             0.0             0.0   \n",
       "4023  ...            1.0             0.0             0.0             0.0   \n",
       "\n",
       "      differentiate_Poorly differentiated  differentiate_Undifferentiated  \\\n",
       "0                                     1.0                             0.0   \n",
       "1                                     0.0                             0.0   \n",
       "2                                     0.0                             0.0   \n",
       "3                                     1.0                             0.0   \n",
       "4                                     1.0                             0.0   \n",
       "...                                   ...                             ...   \n",
       "4019                                  0.0                             0.0   \n",
       "4020                                  0.0                             0.0   \n",
       "4021                                  0.0                             0.0   \n",
       "4022                                  0.0                             0.0   \n",
       "4023                                  0.0                             0.0   \n",
       "\n",
       "      differentiate_Well differentiated  A Stage_Regional  \\\n",
       "0                                   0.0               1.0   \n",
       "1                                   0.0               1.0   \n",
       "2                                   0.0               1.0   \n",
       "3                                   0.0               1.0   \n",
       "4                                   0.0               1.0   \n",
       "...                                 ...               ...   \n",
       "4019                                0.0               1.0   \n",
       "4020                                0.0               1.0   \n",
       "4021                                0.0               1.0   \n",
       "4022                                0.0               1.0   \n",
       "4023                                0.0               1.0   \n",
       "\n",
       "      Estrogen Status_Positive  Progesterone Status_Positive  \n",
       "0                          1.0                           1.0  \n",
       "1                          1.0                           1.0  \n",
       "2                          1.0                           1.0  \n",
       "3                          1.0                           1.0  \n",
       "4                          1.0                           1.0  \n",
       "...                        ...                           ...  \n",
       "4019                       1.0                           1.0  \n",
       "4020                       1.0                           1.0  \n",
       "4021                       1.0                           0.0  \n",
       "4022                       1.0                           1.0  \n",
       "4023                       1.0                           1.0  \n",
       "\n",
       "[4024 rows x 28 columns]"
      ]
     },
     "execution_count": 9,
     "metadata": {},
     "output_type": "execute_result"
    }
   ],
   "source": [
    "df = pd.get_dummies(df, drop_first=True, dtype=float)\n",
    "df"
   ]
  },
  {
   "cell_type": "markdown",
   "id": "27e97032",
   "metadata": {
    "papermill": {
     "duration": 0.007261,
     "end_time": "2024-09-13T19:57:35.688482",
     "exception": false,
     "start_time": "2024-09-13T19:57:35.681221",
     "status": "completed"
    },
    "tags": []
   },
   "source": [
    "## Training data"
   ]
  },
  {
   "cell_type": "code",
   "execution_count": 10,
   "id": "91fa6ff9",
   "metadata": {
    "execution": {
     "iopub.execute_input": "2024-09-13T19:57:35.705432Z",
     "iopub.status.busy": "2024-09-13T19:57:35.705010Z",
     "iopub.status.idle": "2024-09-13T19:57:37.024169Z",
     "shell.execute_reply": "2024-09-13T19:57:37.022963Z"
    },
    "papermill": {
     "duration": 1.331002,
     "end_time": "2024-09-13T19:57:37.026999",
     "exception": false,
     "start_time": "2024-09-13T19:57:35.695997",
     "status": "completed"
    },
    "tags": []
   },
   "outputs": [],
   "source": [
    "from sklearn.model_selection import train_test_split\n",
    "X = df.drop('Status', axis=1)\n",
    "y = df['Status']\n",
    "X_train, X_test, y_train, y_test = train_test_split(X, y, train_size=0.8, test_size=0.2)"
   ]
  },
  {
   "cell_type": "markdown",
   "id": "903a6fc2",
   "metadata": {
    "papermill": {
     "duration": 0.007321,
     "end_time": "2024-09-13T19:57:37.042277",
     "exception": false,
     "start_time": "2024-09-13T19:57:37.034956",
     "status": "completed"
    },
    "tags": []
   },
   "source": [
    "## Standardizing data"
   ]
  },
  {
   "cell_type": "code",
   "execution_count": 11,
   "id": "6434e85d",
   "metadata": {
    "execution": {
     "iopub.execute_input": "2024-09-13T19:57:37.059141Z",
     "iopub.status.busy": "2024-09-13T19:57:37.058521Z",
     "iopub.status.idle": "2024-09-13T19:57:37.076574Z",
     "shell.execute_reply": "2024-09-13T19:57:37.075447Z"
    },
    "papermill": {
     "duration": 0.029727,
     "end_time": "2024-09-13T19:57:37.079317",
     "exception": false,
     "start_time": "2024-09-13T19:57:37.049590",
     "status": "completed"
    },
    "tags": []
   },
   "outputs": [],
   "source": [
    "from sklearn.preprocessing import StandardScaler\n",
    "scaler = StandardScaler()\n",
    "X_train = scaler.fit_transform(X_train)\n",
    "X_test = scaler.fit_transform(X_test)"
   ]
  },
  {
   "cell_type": "markdown",
   "id": "28e67b99",
   "metadata": {
    "papermill": {
     "duration": 0.007413,
     "end_time": "2024-09-13T19:57:37.094384",
     "exception": false,
     "start_time": "2024-09-13T19:57:37.086971",
     "status": "completed"
    },
    "tags": []
   },
   "source": [
    "## Running Logistic Regression on scaled data"
   ]
  },
  {
   "cell_type": "code",
   "execution_count": 12,
   "id": "26f58f90",
   "metadata": {
    "execution": {
     "iopub.execute_input": "2024-09-13T19:57:37.111605Z",
     "iopub.status.busy": "2024-09-13T19:57:37.111177Z",
     "iopub.status.idle": "2024-09-13T19:57:37.341475Z",
     "shell.execute_reply": "2024-09-13T19:57:37.340035Z"
    },
    "papermill": {
     "duration": 0.243299,
     "end_time": "2024-09-13T19:57:37.345382",
     "exception": false,
     "start_time": "2024-09-13T19:57:37.102083",
     "status": "completed"
    },
    "tags": []
   },
   "outputs": [
    {
     "data": {
      "text/html": [
       "<style>#sk-container-id-1 {color: black;background-color: white;}#sk-container-id-1 pre{padding: 0;}#sk-container-id-1 div.sk-toggleable {background-color: white;}#sk-container-id-1 label.sk-toggleable__label {cursor: pointer;display: block;width: 100%;margin-bottom: 0;padding: 0.3em;box-sizing: border-box;text-align: center;}#sk-container-id-1 label.sk-toggleable__label-arrow:before {content: \"▸\";float: left;margin-right: 0.25em;color: #696969;}#sk-container-id-1 label.sk-toggleable__label-arrow:hover:before {color: black;}#sk-container-id-1 div.sk-estimator:hover label.sk-toggleable__label-arrow:before {color: black;}#sk-container-id-1 div.sk-toggleable__content {max-height: 0;max-width: 0;overflow: hidden;text-align: left;background-color: #f0f8ff;}#sk-container-id-1 div.sk-toggleable__content pre {margin: 0.2em;color: black;border-radius: 0.25em;background-color: #f0f8ff;}#sk-container-id-1 input.sk-toggleable__control:checked~div.sk-toggleable__content {max-height: 200px;max-width: 100%;overflow: auto;}#sk-container-id-1 input.sk-toggleable__control:checked~label.sk-toggleable__label-arrow:before {content: \"▾\";}#sk-container-id-1 div.sk-estimator input.sk-toggleable__control:checked~label.sk-toggleable__label {background-color: #d4ebff;}#sk-container-id-1 div.sk-label input.sk-toggleable__control:checked~label.sk-toggleable__label {background-color: #d4ebff;}#sk-container-id-1 input.sk-hidden--visually {border: 0;clip: rect(1px 1px 1px 1px);clip: rect(1px, 1px, 1px, 1px);height: 1px;margin: -1px;overflow: hidden;padding: 0;position: absolute;width: 1px;}#sk-container-id-1 div.sk-estimator {font-family: monospace;background-color: #f0f8ff;border: 1px dotted black;border-radius: 0.25em;box-sizing: border-box;margin-bottom: 0.5em;}#sk-container-id-1 div.sk-estimator:hover {background-color: #d4ebff;}#sk-container-id-1 div.sk-parallel-item::after {content: \"\";width: 100%;border-bottom: 1px solid gray;flex-grow: 1;}#sk-container-id-1 div.sk-label:hover label.sk-toggleable__label {background-color: #d4ebff;}#sk-container-id-1 div.sk-serial::before {content: \"\";position: absolute;border-left: 1px solid gray;box-sizing: border-box;top: 0;bottom: 0;left: 50%;z-index: 0;}#sk-container-id-1 div.sk-serial {display: flex;flex-direction: column;align-items: center;background-color: white;padding-right: 0.2em;padding-left: 0.2em;position: relative;}#sk-container-id-1 div.sk-item {position: relative;z-index: 1;}#sk-container-id-1 div.sk-parallel {display: flex;align-items: stretch;justify-content: center;background-color: white;position: relative;}#sk-container-id-1 div.sk-item::before, #sk-container-id-1 div.sk-parallel-item::before {content: \"\";position: absolute;border-left: 1px solid gray;box-sizing: border-box;top: 0;bottom: 0;left: 50%;z-index: -1;}#sk-container-id-1 div.sk-parallel-item {display: flex;flex-direction: column;z-index: 1;position: relative;background-color: white;}#sk-container-id-1 div.sk-parallel-item:first-child::after {align-self: flex-end;width: 50%;}#sk-container-id-1 div.sk-parallel-item:last-child::after {align-self: flex-start;width: 50%;}#sk-container-id-1 div.sk-parallel-item:only-child::after {width: 0;}#sk-container-id-1 div.sk-dashed-wrapped {border: 1px dashed gray;margin: 0 0.4em 0.5em 0.4em;box-sizing: border-box;padding-bottom: 0.4em;background-color: white;}#sk-container-id-1 div.sk-label label {font-family: monospace;font-weight: bold;display: inline-block;line-height: 1.2em;}#sk-container-id-1 div.sk-label-container {text-align: center;}#sk-container-id-1 div.sk-container {/* jupyter's `normalize.less` sets `[hidden] { display: none; }` but bootstrap.min.css set `[hidden] { display: none !important; }` so we also need the `!important` here to be able to override the default hidden behavior on the sphinx rendered scikit-learn.org. See: https://github.com/scikit-learn/scikit-learn/issues/21755 */display: inline-block !important;position: relative;}#sk-container-id-1 div.sk-text-repr-fallback {display: none;}</style><div id=\"sk-container-id-1\" class=\"sk-top-container\"><div class=\"sk-text-repr-fallback\"><pre>LogisticRegression()</pre><b>In a Jupyter environment, please rerun this cell to show the HTML representation or trust the notebook. <br />On GitHub, the HTML representation is unable to render, please try loading this page with nbviewer.org.</b></div><div class=\"sk-container\" hidden><div class=\"sk-item\"><div class=\"sk-estimator sk-toggleable\"><input class=\"sk-toggleable__control sk-hidden--visually\" id=\"sk-estimator-id-1\" type=\"checkbox\" checked><label for=\"sk-estimator-id-1\" class=\"sk-toggleable__label sk-toggleable__label-arrow\">LogisticRegression</label><div class=\"sk-toggleable__content\"><pre>LogisticRegression()</pre></div></div></div></div></div>"
      ],
      "text/plain": [
       "LogisticRegression()"
      ]
     },
     "execution_count": 12,
     "metadata": {},
     "output_type": "execute_result"
    }
   ],
   "source": [
    "from sklearn.linear_model import LogisticRegression \n",
    "model = LogisticRegression()\n",
    "model.fit(X_train, y_train)"
   ]
  },
  {
   "cell_type": "markdown",
   "id": "c85a21c3",
   "metadata": {
    "papermill": {
     "duration": 0.015562,
     "end_time": "2024-09-13T19:57:37.377198",
     "exception": false,
     "start_time": "2024-09-13T19:57:37.361636",
     "status": "completed"
    },
    "tags": []
   },
   "source": [
    "## Evaluating the model"
   ]
  },
  {
   "cell_type": "code",
   "execution_count": 13,
   "id": "28b58a73",
   "metadata": {
    "execution": {
     "iopub.execute_input": "2024-09-13T19:57:37.411568Z",
     "iopub.status.busy": "2024-09-13T19:57:37.410773Z",
     "iopub.status.idle": "2024-09-13T19:57:37.446370Z",
     "shell.execute_reply": "2024-09-13T19:57:37.444938Z"
    },
    "papermill": {
     "duration": 0.058318,
     "end_time": "2024-09-13T19:57:37.451236",
     "exception": false,
     "start_time": "2024-09-13T19:57:37.392918",
     "status": "completed"
    },
    "tags": []
   },
   "outputs": [
    {
     "name": "stdout",
     "output_type": "stream",
     "text": [
      "Classification Report:               precision    recall  f1-score   support\n",
      "\n",
      "           0       0.90      0.98      0.94       678\n",
      "           1       0.79      0.45      0.57       127\n",
      "\n",
      "    accuracy                           0.89       805\n",
      "   macro avg       0.85      0.71      0.76       805\n",
      "weighted avg       0.89      0.89      0.88       805\n",
      "\n",
      "Confusion Matrix: [[663  15]\n",
      " [ 70  57]]\n"
     ]
    }
   ],
   "source": [
    "from sklearn.metrics import confusion_matrix, accuracy_score, f1_score, precision_score, recall_score, classification_report\n",
    "y_pred = model.predict(X_test)\n",
    "\n",
    "confusion_matrix = confusion_matrix(y_test, y_pred)\n",
    "classification_report = classification_report(y_test, y_pred)\n",
    "\n",
    "print(f\"Classification Report: {classification_report}\")\n",
    "print(f\"Confusion Matrix: {confusion_matrix}\")"
   ]
  }
 ],
 "metadata": {
  "kaggle": {
   "accelerator": "none",
   "dataSources": [
    {
     "datasetId": 2396275,
     "sourceId": 4045493,
     "sourceType": "datasetVersion"
    }
   ],
   "dockerImageVersionId": 30761,
   "isGpuEnabled": false,
   "isInternetEnabled": false,
   "language": "python",
   "sourceType": "notebook"
  },
  "kernelspec": {
   "display_name": "Python 3",
   "language": "python",
   "name": "python3"
  },
  "language_info": {
   "codemirror_mode": {
    "name": "ipython",
    "version": 3
   },
   "file_extension": ".py",
   "mimetype": "text/x-python",
   "name": "python",
   "nbconvert_exporter": "python",
   "pygments_lexer": "ipython3",
   "version": "3.10.14"
  },
  "papermill": {
   "default_parameters": {},
   "duration": 6.106575,
   "end_time": "2024-09-13T19:57:38.097164",
   "environment_variables": {},
   "exception": null,
   "input_path": "__notebook__.ipynb",
   "output_path": "__notebook__.ipynb",
   "parameters": {},
   "start_time": "2024-09-13T19:57:31.990589",
   "version": "2.6.0"
  }
 },
 "nbformat": 4,
 "nbformat_minor": 5
}
